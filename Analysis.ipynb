{
 "cells": [
  {
   "cell_type": "code",
   "execution_count": 2,
   "id": "2c035209-76d8-4b36-98e1-385be5e184a5",
   "metadata": {},
   "outputs": [],
   "source": [
    "# Import Libraries\n",
    "\n",
    "import numpy as np\n",
    "import matplotlib.pyplot as plt"
   ]
  },
  {
   "cell_type": "code",
   "execution_count": null,
   "id": "0eb2b78c",
   "metadata": {},
   "outputs": [
    {
     "name": "stdout",
     "output_type": "stream",
     "text": [
      "432096\n"
     ]
    }
   ],
   "source": [
    "# Open log and process into array\n",
    "\n",
    "with open(\"sample-log.log\", \"r\") as f:\n",
    "    logs = np.array(f.readlines())\n",
    "\n",
    "logs = np.char.split(logs)"
   ]
  },
  {
   "cell_type": "code",
   "execution_count": 25,
   "id": "42b357f5",
   "metadata": {},
   "outputs": [
    {
     "name": "stdout",
     "output_type": "stream",
     "text": [
      "Total number of logs: 432096\n",
      "Total number of unique IP addresses: 40887\n",
      "Most common IP addresses (IP address, count): \n",
      "\n",
      "45.133.1.1: 5400\n",
      "45.133.1.2: 5400\n",
      "35.185.0.156: 3600\n",
      "194.168.1.2: 1859\n",
      "194.168.1.6: 1855\n",
      "194.168.1.8: 1831\n",
      "194.168.1.3: 1798\n",
      "194.168.1.1: 1789\n",
      "194.168.1.7: 1767\n",
      "194.168.1.4: 1763\n",
      "194.168.1.5: 1738\n",
      "185.220.101.86: 1440\n",
      "185.220.102.135: 1440\n",
      "185.220.101.19: 1440\n",
      "185.220.101.78: 1440\n",
      "185.220.100.77: 1440\n",
      "...\n",
      "36000\n"
     ]
    }
   ],
   "source": [
    "# Process logs to extract IP addresses and frequencies\n",
    "\n",
    "ips = [log[0] for log in logs]\n",
    "ip_count = {}\n",
    "for ip in ips:\n",
    "    if ip in ip_count: ip_count[ip] += 1\n",
    "    else: ip_count[ip] = 1\n",
    "\n",
    "# Print information\n",
    "\n",
    "ip_count = sorted(ip_count.items(), key=lambda item: item[1], reverse=True)\n",
    "print(\"Total number of logs: \" + str(len(logs)))\n",
    "print(\"Total number of unique IP addresses: \" + str(len(ip_count)))\n",
    "print(\"Most common IP addresses (IP address, count): \\n\")\n",
    "for ip, count in ip_count[:16]: print(f\"{ip}: {count}\")\n",
    "print(\"...\")\n",
    "print(sum(item[1] for item in ip_count[:16]))"
   ]
  },
  {
   "cell_type": "code",
   "execution_count": 29,
   "id": "55ba49a9",
   "metadata": {},
   "outputs": [
    {
     "data": {
      "text/plain": [
       "0"
      ]
     },
     "execution_count": 29,
     "metadata": {},
     "output_type": "execute_result"
    }
   ],
   "source": [
    "# Check if the brute force attack carried out by group 3 was successful\n",
    "# Check if there were any GET requests associated with the IP addresses\n",
    "\n",
    "group_three_logs = [log for log in logs if log[0].startswith('185.220.10')]\n",
    "num_get_requests = len([log for log in group_three_logs if log[5] == '\"GET'])\n",
    "num_get_requests"
   ]
  }
 ],
 "metadata": {
  "kernelspec": {
   "display_name": ".venv",
   "language": "python",
   "name": "python3"
  },
  "language_info": {
   "codemirror_mode": {
    "name": "ipython",
    "version": 3
   },
   "file_extension": ".py",
   "mimetype": "text/x-python",
   "name": "python",
   "nbconvert_exporter": "python",
   "pygments_lexer": "ipython3",
   "version": "3.13.0"
  }
 },
 "nbformat": 4,
 "nbformat_minor": 5
}
