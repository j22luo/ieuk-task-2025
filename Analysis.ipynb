{
 "cells": [
  {
   "cell_type": "code",
   "execution_count": 1,
   "id": "2c035209-76d8-4b36-98e1-385be5e184a5",
   "metadata": {},
   "outputs": [],
   "source": [
    "# Import Libraries\n",
    "\n",
    "import numpy as np\n",
    "import matplotlib.pyplot as plt"
   ]
  },
  {
   "cell_type": "code",
   "execution_count": null,
   "id": "0eb2b78c",
   "metadata": {},
   "outputs": [
    {
     "name": "stdout",
     "output_type": "stream",
     "text": [
      "sour100.34.17.233 - NO - [01/07/2025:06:00:02] \"GET /news/grammy-nominations-2024 HTTP/1.1\" 302 1234 \"-\" \"Mozilla/5.0 (Macintosh; Intel Mac OS X 10_15_7) AppleWebKit/537.36 (KHTML, like Gecko) Chrome/120.0.0.0 Safari/537.36\" 269\n",
      "\n"
     ]
    }
   ],
   "source": [
    "# Open log and process into array\n",
    "\n",
    "with open(\"sample-log.log\", \"r\") as f:\n",
    "    log = f.readlines()\n",
    "    print(log[0])"
   ]
  }
 ],
 "metadata": {
  "kernelspec": {
   "display_name": ".venv",
   "language": "python",
   "name": "python3"
  },
  "language_info": {
   "codemirror_mode": {
    "name": "ipython",
    "version": 3
   },
   "file_extension": ".py",
   "mimetype": "text/x-python",
   "name": "python",
   "nbconvert_exporter": "python",
   "pygments_lexer": "ipython3",
   "version": "3.13.0"
  }
 },
 "nbformat": 4,
 "nbformat_minor": 5
}
